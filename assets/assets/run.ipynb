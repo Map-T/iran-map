{
 "cells": [
  {
   "cell_type": "code",
   "execution_count": 17,
   "metadata": {},
   "outputs": [],
   "source": [
    "import json\n",
    "f = open('./iran-state.json',encoding='UTF-8')\n",
    "\n",
    "jsy = json.load(f)"
   ]
  },
  {
   "cell_type": "code",
   "execution_count": 20,
   "metadata": {},
   "outputs": [
    {
     "name": "stdout",
     "output_type": "stream",
     "text": [
      "'البرز',\n",
      "'اردبیل',\n",
      "'بوشهر',\n",
      "'چهارمحال و بختیاری',\n",
      "'آذربایجان شرقی',\n",
      "'اصفهان',\n",
      "'فارس',\n",
      "'گیلان',\n",
      "'گلستان',\n",
      "'همدان',\n",
      "'هرمزگان',\n",
      "'ایلام',\n",
      "'کرمان',\n",
      "'کرمانشاه',\n",
      "'خوزستان',\n",
      "'کهگیلویه و بویراحمد',\n",
      "'کردستان',\n",
      "'لرستان',\n",
      "'مرکزی',\n",
      "'مازندران',\n",
      "'خراسان شمالی',\n",
      "'قزوین',\n",
      "'قم',\n",
      "'خراسان رضوی',\n",
      "'سمنان',\n",
      "'سیستان و بلوچستان',\n",
      "'خراسان جنوبی',\n",
      "'تهران',\n",
      "'آذربایجان غربی',\n",
      "'یزد',\n",
      "'زنجان',\n"
     ]
    },
    {
     "name": "stderr",
     "output_type": "stream",
     "text": [
      "error uploading: HTTPSConnectionPool(host='api.segment.io', port=443): Max retries exceeded with url: /v1/batch (Caused by SSLError(SSLEOFError(8, 'EOF occurred in violation of protocol (_ssl.c:1129)')))\n"
     ]
    }
   ],
   "source": [
    "for item in jsy['features']:\n",
    "    print(f\"'{item['properties']['NL_NAME_1']}',\")"
   ]
  }
 ],
 "metadata": {
  "kernelspec": {
   "display_name": "Python 3.9.7 ('base')",
   "language": "python",
   "name": "python3"
  },
  "language_info": {
   "codemirror_mode": {
    "name": "ipython",
    "version": 3
   },
   "file_extension": ".py",
   "mimetype": "text/x-python",
   "name": "python",
   "nbconvert_exporter": "python",
   "pygments_lexer": "ipython3",
   "version": "3.9.7"
  },
  "orig_nbformat": 4,
  "vscode": {
   "interpreter": {
    "hash": "981a068c3610acb4413548f03f3bf99c774b8d3a92250b4c28a67fc7f96081b8"
   }
  }
 },
 "nbformat": 4,
 "nbformat_minor": 2
}
